{
 "cells": [
  {
   "cell_type": "markdown",
   "id": "6fa223d2",
   "metadata": {},
   "source": [
    "## 1.Implement Binary tree"
   ]
  },
  {
   "cell_type": "code",
   "execution_count": 196,
   "id": "b7f7bda8",
   "metadata": {},
   "outputs": [
    {
     "name": "stdout",
     "output_type": "stream",
     "text": [
      "5--100--10\n"
     ]
    }
   ],
   "source": [
    "class node:\n",
    "    def __init__(self,left,right,data):\n",
    "        self.left = left\n",
    "        self.right = right\n",
    "        self.data = data\n",
    "        \n",
    "    def __str__(self):\n",
    "        return '{}--{}--{}'.format(self.left.data if self.left else' ',self.data,self.right.data if self.right else' ')\n",
    "\n",
    "root_node = node(None,None,'100')\n",
    "#c1 = node(None,None,'5')\n",
    "#c2 = node(None,None,'10')\n",
    "root_node.left = node(None,None,'5')\n",
    "root_node.right = node(None,None,'10')\n",
    "print(root_node)"
   ]
  },
  {
   "cell_type": "markdown",
   "id": "aba12197",
   "metadata": {},
   "source": [
    "## 2.Find height of a given tree\n"
   ]
  },
  {
   "cell_type": "code",
   "execution_count": 197,
   "id": "caba121f",
   "metadata": {},
   "outputs": [
    {
     "name": "stdout",
     "output_type": "stream",
     "text": [
      "height of the tree is 4\n"
     ]
    }
   ],
   "source": [
    "class Node:\n",
    "    def __init__(self,data):\n",
    "        self.left = None\n",
    "        self.right = None\n",
    "        self.data = data\n",
    "        \n",
    "def max_depth(node):\n",
    "    if node is None:\n",
    "        return 0\n",
    "    else:\n",
    "        left_depth = max_depth(node.left)\n",
    "        right_depth = max_depth(node.right)\n",
    "        if (left_depth > right_depth):\n",
    "            return left_depth + 1\n",
    "        else:\n",
    "            return right_depth + 1\n",
    "root = Node(1)\n",
    "root.left = Node(2)\n",
    "root.left.left = Node(3)\n",
    "root.right = Node(4)\n",
    "root.right.right = Node(5)\n",
    "root.right.right.left = Node(6)\n",
    "print('height of the tree is',max_depth(root))\n"
   ]
  },
  {
   "cell_type": "markdown",
   "id": "22d5e962",
   "metadata": {},
   "source": [
    "## 3.Perform Pre-order, Post-order, In-order traversal\n"
   ]
  },
  {
   "cell_type": "code",
   "execution_count": 198,
   "id": "41e44cd7",
   "metadata": {},
   "outputs": [
    {
     "data": {
      "text/plain": [
       "<__main__.Node at 0x19c63d43cd0>"
      ]
     },
     "execution_count": 198,
     "metadata": {},
     "output_type": "execute_result"
    }
   ],
   "source": [
    "class Node:\n",
    "    def __init__(self,data):\n",
    "        self.left = None\n",
    "        self.right = None\n",
    "        self.data = data\n",
    "        \n",
    "def insert(node,data):\n",
    "    if node is None:\n",
    "        return Node(data)\n",
    "    if data <= node.data:\n",
    "        node.left = insert(node.left,data)\n",
    "    else:\n",
    "        node.right = insert(node.right,data)\n",
    "    return node\n",
    "\n",
    "root = insert(None,50)\n",
    "insert(root,45)\n",
    "insert(root,30)\n",
    "insert(root,80)\n",
    "insert(root,70)\n",
    "insert(root,90)\n",
    "insert(root,46)\n",
    "insert(root,80)\n"
   ]
  },
  {
   "cell_type": "code",
   "execution_count": 199,
   "id": "4dfa4353",
   "metadata": {},
   "outputs": [
    {
     "name": "stdout",
     "output_type": "stream",
     "text": [
      "30\n",
      "45\n",
      "46\n",
      "50\n",
      "70\n",
      "80\n",
      "80\n",
      "90\n"
     ]
    }
   ],
   "source": [
    "## inorder\n",
    "def inorder(root):\n",
    "    if root is not None:\n",
    "        inorder(root.left)\n",
    "        print(root.data)\n",
    "        inorder(root.right)\n",
    "inorder(root)"
   ]
  },
  {
   "cell_type": "code",
   "execution_count": 200,
   "id": "ba25c2ab",
   "metadata": {},
   "outputs": [
    {
     "name": "stdout",
     "output_type": "stream",
     "text": [
      "50\n",
      "45\n",
      "30\n",
      "46\n",
      "80\n",
      "70\n",
      "80\n",
      "90\n"
     ]
    }
   ],
   "source": [
    "## preorder\n",
    "def inorder(root):\n",
    "    if root is not None:\n",
    "        print(root.data)\n",
    "        inorder(root.left)\n",
    "        inorder(root.right)\n",
    "inorder(root)"
   ]
  },
  {
   "cell_type": "code",
   "execution_count": 201,
   "id": "a9dd23e7",
   "metadata": {},
   "outputs": [
    {
     "name": "stdout",
     "output_type": "stream",
     "text": [
      "30\n",
      "46\n",
      "45\n",
      "80\n",
      "70\n",
      "90\n",
      "80\n",
      "50\n"
     ]
    }
   ],
   "source": [
    "## postorder\n",
    "def inorder(root):\n",
    "    if root is not None:\n",
    "        inorder(root.left)\n",
    "        inorder(root.right)\n",
    "        print(root.data)\n",
    "inorder(root)"
   ]
  },
  {
   "cell_type": "markdown",
   "id": "adc2afd4",
   "metadata": {},
   "source": [
    "## 4.Function to print all the leaves in a given binary tree\n"
   ]
  },
  {
   "cell_type": "code",
   "execution_count": 202,
   "id": "5c293c6e",
   "metadata": {},
   "outputs": [
    {
     "name": "stdout",
     "output_type": "stream",
     "text": [
      "3 6 7 8 "
     ]
    }
   ],
   "source": [
    "class Node:\n",
    "    def __init__(self,data):\n",
    "        self.left = None\n",
    "        self.right = None\n",
    "        self.data = data\n",
    "        \n",
    "def leaves(node):\n",
    "    if node is None:\n",
    "        return\n",
    "    if not node.left and not node.right:\n",
    "        print(node.data,end=' ')\n",
    "        return\n",
    "    if node.left:\n",
    "        leaves(node.left)\n",
    "    if node.right:\n",
    "        leaves(node.right)\n",
    "\n",
    "        \n",
    "root = Node(1)\n",
    "root.left = Node(2)\n",
    "root.left.left = Node(3)\n",
    "root.right = Node(4)\n",
    "root.right.right = Node(5)\n",
    "root.right.left = Node(6)\n",
    "root.right.right.left = Node(7)\n",
    "root.right.right.right = Node(8)\n",
    "leaves(root)\n",
    "    "
   ]
  },
  {
   "cell_type": "markdown",
   "id": "2dfed8f4",
   "metadata": {},
   "source": [
    "## 5.Implement BFS (Breath First Search) and DFS (Depth First Search)\n"
   ]
  },
  {
   "cell_type": "code",
   "execution_count": 203,
   "id": "7e507986",
   "metadata": {},
   "outputs": [],
   "source": [
    "## BFS\n",
    "\n",
    "class Node:\n",
    "    def __init__(self,data):\n",
    "        self.left = None\n",
    "        self.right = None\n",
    "        self.data = data\n",
    "        \n",
    "def insert(node,data):\n",
    "    if node is None:\n",
    "        return Node(data)\n",
    "    if data <= node.data:\n",
    "        node.left = insert(node.left,data)\n",
    "    else:\n",
    "        node.right = insert(node.right,data)\n",
    "    return node                "
   ]
  },
  {
   "cell_type": "code",
   "execution_count": 204,
   "id": "06a35609",
   "metadata": {},
   "outputs": [
    {
     "data": {
      "text/plain": [
       "<__main__.Node at 0x19c65d6a410>"
      ]
     },
     "execution_count": 204,
     "metadata": {},
     "output_type": "execute_result"
    }
   ],
   "source": [
    "root = insert(None,50)\n",
    "insert(root,45)\n",
    "insert(root,30)\n",
    "insert(root,80)\n",
    "insert(root,70)\n",
    "insert(root,90)\n",
    "insert(root,46)\n",
    "insert(root,80)\n"
   ]
  },
  {
   "cell_type": "code",
   "execution_count": 205,
   "id": "6500e34d",
   "metadata": {},
   "outputs": [
    {
     "name": "stdout",
     "output_type": "stream",
     "text": [
      "50\n",
      "45\n",
      "80\n",
      "30\n",
      "46\n",
      "70\n",
      "90\n",
      "80\n"
     ]
    }
   ],
   "source": [
    "def bfs(root):\n",
    "    queue = []\n",
    "    if root is None:\n",
    "        return\n",
    "    queue.append(root)\n",
    "    while (len(queue) > 0):\n",
    "        popped_node = queue.pop(0)\n",
    "        print(popped_node.data)\n",
    "        if popped_node.left is not None:\n",
    "            queue.append(popped_node.left)\n",
    "        if popped_node.right is not None:\n",
    "            queue.append(popped_node.right)\n",
    "bfs(root)"
   ]
  },
  {
   "cell_type": "code",
   "execution_count": 206,
   "id": "554909a9",
   "metadata": {},
   "outputs": [
    {
     "name": "stdout",
     "output_type": "stream",
     "text": [
      "--------INORDER----------\n",
      "30\n",
      "45\n",
      "46\n",
      "50\n",
      "70\n",
      "80\n",
      "80\n",
      "90\n",
      "--------PREORDER--------\n",
      "50\n",
      "45\n",
      "30\n",
      "46\n",
      "80\n",
      "70\n",
      "80\n",
      "90\n",
      "---------POSTORDER-------\n",
      "30\n",
      "46\n",
      "45\n",
      "80\n",
      "70\n",
      "90\n",
      "80\n",
      "50\n"
     ]
    }
   ],
   "source": [
    "## inorder\n",
    "print('--------INORDER----------')\n",
    "def inorder(root):\n",
    "    if root is not None:\n",
    "        inorder(root.left)\n",
    "        print(root.data)\n",
    "        inorder(root.right)\n",
    "        \n",
    "\n",
    "inorder(root)\n",
    "## preorder\n",
    "print('--------PREORDER--------')\n",
    "def inorder(root):\n",
    "    if root is not None:\n",
    "        print(root.data)\n",
    "        inorder(root.left)\n",
    "        inorder(root.right)\n",
    "\n",
    "inorder(root)\n",
    "## postorder\n",
    "print('---------POSTORDER-------')\n",
    "def inorder(root):\n",
    "    if root is not None:\n",
    "        inorder(root.left)\n",
    "        inorder(root.right)\n",
    "        print(root.data)   \n",
    "inorder(root)"
   ]
  },
  {
   "cell_type": "markdown",
   "id": "81c42cfe",
   "metadata": {},
   "source": [
    "## 6.Find sum of all left leaves in a given Binary Tree\n"
   ]
  },
  {
   "cell_type": "code",
   "execution_count": 207,
   "id": "f9037fcb",
   "metadata": {},
   "outputs": [],
   "source": [
    "class Node:\n",
    "    def __init__(self,data):\n",
    "        self.left = None\n",
    "        self.right = None\n",
    "        self.data = data\n",
    "\n",
    "def isleaf(node):\n",
    "    if node is None:\n",
    "        return False\n",
    "    if not node.left and not node.right:\n",
    "        return True\n",
    "    return False\n",
    "\n",
    "def left_leaves_sum(root):\n",
    "    lsum = 0\n",
    "    if root is not None:\n",
    "        if isleaf(root.left):\n",
    "            print(root.left.data,end='+')\n",
    "            lsum += root.left.data\n",
    "        else:\n",
    "            lsum += left_leaves_sum(root.left)\n",
    "        \n",
    "        lsum += left_leaves_sum(root.right)\n",
    "    return lsum  "
   ]
  },
  {
   "cell_type": "code",
   "execution_count": 208,
   "id": "6eddd7c3",
   "metadata": {},
   "outputs": [
    {
     "name": "stdout",
     "output_type": "stream",
     "text": [
      "40+65+68+"
     ]
    },
    {
     "data": {
      "text/plain": [
       "173"
      ]
     },
     "execution_count": 208,
     "metadata": {},
     "output_type": "execute_result"
    }
   ],
   "source": [
    "root = Node(50)\n",
    "root.left = Node(45)\n",
    "root.left.left = Node(40)\n",
    "root.left.right = Node(46)\n",
    "root.right = Node(60)\n",
    "root.right.right = Node(70)\n",
    "root.right.right.left = Node(68)\n",
    "root.right.left = Node(65)\n",
    "left_leaves_sum(root)"
   ]
  },
  {
   "cell_type": "markdown",
   "id": "bfa7bbc2",
   "metadata": {},
   "source": [
    "## 7.Find sum of all nodes of the given perfect binary tree\n"
   ]
  },
  {
   "cell_type": "code",
   "execution_count": 209,
   "id": "c768f993",
   "metadata": {},
   "outputs": [],
   "source": [
    "class Node:\n",
    "    def __init__(self,data):\n",
    "        self.left = None\n",
    "        self.right = None\n",
    "        self.data = data\n",
    "        \n",
    "def sum_of_nodes(node):\n",
    "    \n",
    "    if node is None:\n",
    "        return 0\n",
    "    return (node.data + sum_of_nodes(node.left) + sum_of_nodes(node.right))\n",
    "    "
   ]
  },
  {
   "cell_type": "code",
   "execution_count": 210,
   "id": "fac57e26",
   "metadata": {},
   "outputs": [
    {
     "data": {
      "text/plain": [
       "444"
      ]
     },
     "execution_count": 210,
     "metadata": {},
     "output_type": "execute_result"
    }
   ],
   "source": [
    "root = Node(50)\n",
    "root.left = Node(45)\n",
    "root.left.left = Node(40)\n",
    "root.left.right = Node(46)\n",
    "root.right = Node(60)\n",
    "root.right.right = Node(70)\n",
    "root.right.right.left = Node(68)\n",
    "root.right.left = Node(65)\n",
    "sum_of_nodes(root)"
   ]
  },
  {
   "cell_type": "markdown",
   "id": "0052ae9b",
   "metadata": {},
   "source": [
    "## 8.Count subtress that sum up to a given value x in a binary tree\n"
   ]
  },
  {
   "cell_type": "code",
   "execution_count": 211,
   "id": "e0c9e97f",
   "metadata": {},
   "outputs": [],
   "source": [
    "class Node:\n",
    "    def __init__(self,data):\n",
    "        self.data = data\n",
    "        self.left = None\n",
    "        self.right = None\n",
    "        \n",
    "def count_subtree_x(node,count,x):\n",
    "    if node is None:\n",
    "        return 0\n",
    "    ls = count_subtree_x(node.left,count,x)\n",
    "    rs = count_subtree_x(node.right,count,x)\n",
    "    t = ls + rs + node.data\n",
    "    \n",
    "    if t == x:\n",
    "        count[0] += 1\n",
    "    return t\n",
    "\n",
    "def count_subtree_untill(node,x):\n",
    "    if node is None:\n",
    "        return 0\n",
    "    count = [0]\n",
    "    ls = count_subtree_x(node.left,count,x)\n",
    "    rs = count_subtree_x(node.right,count,x)\n",
    "    t = ls+rs+node.data\n",
    "    \n",
    "    if t == x:\n",
    "        count[0] += 1\n",
    "    return count[0]\n",
    "        \n",
    "    \n",
    "        "
   ]
  },
  {
   "cell_type": "code",
   "execution_count": 212,
   "id": "68268739",
   "metadata": {},
   "outputs": [
    {
     "data": {
      "text/plain": [
       "2"
      ]
     },
     "execution_count": 212,
     "metadata": {},
     "output_type": "execute_result"
    }
   ],
   "source": [
    "root = Node(5)\n",
    "root.left = Node(-10)\n",
    "root.right = Node(3)\n",
    "root.left.left = Node(9)\n",
    "root.left.right = Node(8)\n",
    "root.right.left = Node(-4)\n",
    "root.right.right = Node(7)\n",
    "count_subtree_untill(root,x=7)"
   ]
  },
  {
   "cell_type": "markdown",
   "id": "b285fdea",
   "metadata": {},
   "source": [
    "## 9.Find maximum level sum in Binary Tree\n"
   ]
  },
  {
   "cell_type": "code",
   "execution_count": 213,
   "id": "0b5782e1",
   "metadata": {},
   "outputs": [],
   "source": [
    "from collections import deque\n",
    "class Node:\n",
    "    def __init__(self,data):\n",
    "        self.data = data\n",
    "        self.left = None\n",
    "        self.right = None\n",
    "        \n",
    "def maxlevelsum(node):\n",
    "    if node is None:\n",
    "        return 0\n",
    "    result = node.data\n",
    "    q = deque()\n",
    "    q.append(node)\n",
    "    while (len(q) > 0):\n",
    "        count = len(q)\n",
    "        sum = 0\n",
    "        while (count > 0):\n",
    "            temp = q.popleft()\n",
    "            sum += temp.data\n",
    "            if (temp.left != None):\n",
    "                q.append(temp.left)\n",
    "            if (temp.right != None):\n",
    "                q.append(temp.right)\n",
    "            count -= 1\n",
    "        result = max(sum,result)\n",
    "    return result\n",
    "\n",
    "    "
   ]
  },
  {
   "cell_type": "code",
   "execution_count": 214,
   "id": "f26dd385",
   "metadata": {},
   "outputs": [
    {
     "data": {
      "text/plain": [
       "17"
      ]
     },
     "execution_count": 214,
     "metadata": {},
     "output_type": "execute_result"
    }
   ],
   "source": [
    "root = Node(1)\n",
    "root.left = Node(2)\n",
    "root.right = Node(3)\n",
    "root.left.left = Node(4)\n",
    "root.left.right = Node(5)\n",
    "root.right.right = Node(8)\n",
    "root.right.right.left = Node(6)\n",
    "root.right.right.right = Node(7)\n",
    "maxlevelsum(root)"
   ]
  },
  {
   "cell_type": "markdown",
   "id": "874dc330",
   "metadata": {},
   "source": [
    "## 10.Print the nodes at odd levels of a tree\n"
   ]
  },
  {
   "cell_type": "code",
   "execution_count": 215,
   "id": "9759e0df",
   "metadata": {},
   "outputs": [
    {
     "name": "stdout",
     "output_type": "stream",
     "text": [
      "1 4 5 "
     ]
    }
   ],
   "source": [
    "class Node:\n",
    "    def __init__(self,data):\n",
    "        self.data = data\n",
    "        self.left = None\n",
    "        self.right = None\n",
    "        \n",
    "def printOddNodes(node,isodd = True):\n",
    "    if node is None:\n",
    "        return \n",
    "    if isodd:\n",
    "        print(node.data,end=' ')\n",
    "    \n",
    "    printOddNodes(node.left,not isodd)\n",
    "    printOddNodes(node.right,not isodd)\n",
    "    \n",
    "root = Node(1)\n",
    "root.left = Node(2)\n",
    "root.right = Node(3)\n",
    "root.left.left = Node(4)\n",
    "root.left.right = Node(5)\n",
    "printOddNodes(root)\n"
   ]
  },
  {
   "cell_type": "code",
   "execution_count": null,
   "id": "7c007c7c",
   "metadata": {},
   "outputs": [],
   "source": []
  },
  {
   "cell_type": "code",
   "execution_count": null,
   "id": "1e5375da",
   "metadata": {},
   "outputs": [],
   "source": []
  }
 ],
 "metadata": {
  "kernelspec": {
   "display_name": "Python 3 (ipykernel)",
   "language": "python",
   "name": "python3"
  },
  "language_info": {
   "codemirror_mode": {
    "name": "ipython",
    "version": 3
   },
   "file_extension": ".py",
   "mimetype": "text/x-python",
   "name": "python",
   "nbconvert_exporter": "python",
   "pygments_lexer": "ipython3",
   "version": "3.10.0"
  }
 },
 "nbformat": 4,
 "nbformat_minor": 5
}
